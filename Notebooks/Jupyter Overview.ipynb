{
 "cells": [
  {
   "cell_type": "markdown",
   "id": "b3bc7c3e",
   "metadata": {},
   "source": [
    "## An overview of Jupyter Notebooks and Jupyter Lab\n",
    "### Marc Weber and Sharon Kenny"
   ]
  },
  {
   "cell_type": "markdown",
   "id": "d1859fcb",
   "metadata": {},
   "source": [
    "### What is Jupyter and why use Jupyter Notebooks?\n",
    "- Jupyter stands for 'Julia, Python, and R'\n",
    "- It's an extension of the IPython project for interactive computing\n",
    "- It's a code agnostic way to integrate code and output into a interactive sharable document\n",
    "- Way to combine code, visualizations, narrative text, mathematical equations, and other media\n",
    "- Jupyter is NOT ideal for reusable code or scripts\n",
    "- Jupyter IS ideal for \n",
    "    - Exploratory data analysis and testing ideas\n",
    "    - Sharing the thinking behind your analysis\n",
    "    - Pedagogy"
   ]
  },
  {
   "cell_type": "markdown",
   "id": "f9028118",
   "metadata": {},
   "source": [
    "## Installing and running Jupyter\n",
    "- You can run in the cloud in Google Colab, Binder, or Kaggle\n",
    "- Install locally via conda or pip - we'll show this method\n",
    "    - Install [miniforge](https://github.com/conda-forge/miniforge/releases) (preferred minimal conda installer)\n",
    "    - \n",
    "    \n"
   ]
  },
  {
   "cell_type": "code",
   "execution_count": null,
   "id": "2606d2f5",
   "metadata": {},
   "outputs": [],
   "source": []
  }
 ],
 "metadata": {
  "kernelspec": {
   "display_name": "Python 3 (ipykernel)",
   "language": "python",
   "name": "python3"
  },
  "language_info": {
   "codemirror_mode": {
    "name": "ipython",
    "version": 3
   },
   "file_extension": ".py",
   "mimetype": "text/x-python",
   "name": "python",
   "nbconvert_exporter": "python",
   "pygments_lexer": "ipython3",
   "version": "3.7.10"
  }
 },
 "nbformat": 4,
 "nbformat_minor": 5
}
