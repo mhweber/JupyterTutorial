{
 "cells": [
  {
   "cell_type": "markdown",
   "id": "b3bc7c3e",
   "metadata": {},
   "source": [
    "## An overview of Jupyter Notebooks and Jupyter Lab\n",
    "### Marc Weber and Sharon Kenny"
   ]
  },
  {
   "cell_type": "markdown",
   "id": "d1859fcb",
   "metadata": {},
   "source": [
    "### What is Jupyter and why use Jupyter Notebooks / JupyterLab?\n",
    "- Jupyter stands for 'Julia, Python, and R'\n",
    "- It's an extension of the IPython project for interactive computing\n",
    "- Supports multiple language engines\n",
    "- It's a  way to integrate code and output into a interactive sharable document\n",
    "- Way to combine code, visualizations, narrative text, mathematical equations, and other media\n",
    "- Jupyter is NOT ideal for production code or scripts\n",
    "- Jupyter IS ideal for \n",
    "    - Exploratory data analysis and testing ideas\n",
    "    - Sharing the thinking behind your analysis\n",
    "    - Pedagogy\n",
    "- JupyterLab is the next-generation interface with a modular structure where you can open multiple notebooks or files as tabs"
   ]
  },
  {
   "cell_type": "markdown",
   "id": "f9028118",
   "metadata": {},
   "source": [
    "## Installing Jupyter\n",
    "- You can run in the cloud in Google Colab, Binder, or Kaggle\n",
    "- Install locally via conda or pip - we'll show this method\n",
    "    - Install [miniforge](https://github.com/conda-forge/miniforge/releases) (preferred minimal conda installer)\n",
    "    - Launch miniforge prompt from the Start menu\n",
    "    - Either in your base environment, or in a new environment you create, install jupyter:\n",
    "        - conda install jupyter\n",
    "    - Note that miniforge uses conda-forge channel by default.\n",
    "        - channels are simply the repostories you specify to search for Python libraries\n"
   ]
  },
  {
   "cell_type": "markdown",
   "id": "102eaf24",
   "metadata": {},
   "source": [
    "## Launch a Jupyter Notebook\n",
    "- In miniforge prompt type either:\n",
    "    - jupyter notebook\n",
    "    \n",
    "    or\n",
    "    \n",
    "    - jupyter lab\n",
    "    \n",
    "    \n",
    "- Out of the box Jupyter just runs the Python kernel, but [many language 'kernels' available](https://github.com/jupyter/jupyter/wiki/Jupyter-kernels)"
   ]
  },
  {
   "cell_type": "markdown",
   "id": "c704295d",
   "metadata": {},
   "source": [
    "\n"
   ]
  },
  {
   "cell_type": "markdown",
   "id": "f2b9a837",
   "metadata": {},
   "source": [
    "Launching a jupyter notebook opens a dashboard in your browser:\n",
    "\n",
    "<img src=\"Launch.png\" />"
   ]
  },
  {
   "cell_type": "markdown",
   "id": "3d505a54",
   "metadata": {},
   "source": [
    "## The Notebook\n",
    "\n",
    "- Opening and creating a new notebook from the dashboard starts a new browser tab with the user interface (UI)\n",
    "- Try an interactive tour by using `Help -> User Interface Tour` from notebook menu\n",
    "- Body of the notebook is made of of cells - code cells, markdown cells, or raw content cells\n",
    "- Modality: the notebook interface is *modal* - keyboard is different in different modes of the notebook - either **edit** (green border) or **command** (gray border with blue on the left) mode\n",
    "- The notebook itself is a json file stored as a .ipynb file"
   ]
  },
  {
   "cell_type": "markdown",
   "id": "72d9e22c",
   "metadata": {},
   "source": [
    "## Running Code"
   ]
  },
  {
   "cell_type": "code",
   "execution_count": 3,
   "id": "9dd1848a",
   "metadata": {},
   "outputs": [
    {
     "data": {
      "text/plain": [
       "['one', 'you', 'them']"
      ]
     },
     "execution_count": 3,
     "metadata": {},
     "output_type": "execute_result"
    }
   ],
   "source": [
    "some_list=['one','you','them']\n",
    "some_list"
   ]
  },
  {
   "cell_type": "code",
   "execution_count": 4,
   "id": "47ed66cb",
   "metadata": {},
   "outputs": [],
   "source": [
    "import collections"
   ]
  },
  {
   "cell_type": "code",
   "execution_count": 5,
   "id": "ce3bc579",
   "metadata": {},
   "outputs": [],
   "source": [
    "collections."
   ]
  },
  {
   "cell_type": "code",
   "execution_count": null,
   "id": "516f3d22",
   "metadata": {},
   "outputs": [],
   "source": []
  }
 ],
 "metadata": {
  "kernelspec": {
   "display_name": "Python 3 (ipykernel)",
   "language": "python",
   "name": "python3"
  },
  "language_info": {
   "codemirror_mode": {
    "name": "ipython",
    "version": 3
   },
   "file_extension": ".py",
   "mimetype": "text/x-python",
   "name": "python",
   "nbconvert_exporter": "python",
   "pygments_lexer": "ipython3",
   "version": "3.10.6"
  }
 },
 "nbformat": 4,
 "nbformat_minor": 5
}
