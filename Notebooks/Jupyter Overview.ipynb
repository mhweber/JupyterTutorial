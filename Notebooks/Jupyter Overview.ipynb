{
 "cells": [
  {
   "cell_type": "markdown",
   "id": "b3bc7c3e",
   "metadata": {},
   "source": [
    "## An overview of Jupyter Notebooks and Jupyter Lab\n",
    "### Marc Weber and Sharon Kenny"
   ]
  },
  {
   "cell_type": "markdown",
   "id": "d1859fcb",
   "metadata": {},
   "source": [
    "### What is Jupyter and why use Jupyter Notebooks / JupyterLab?\n",
    "- Jupyter stands for 'Julia, Python, and R'\n",
    "- It's an extension of the IPython project for interactive computing\n",
    "- It's a powerful, code agnostic wat for interactively developing and presenting\n",
    "- It's a  way to integrate code and output into a interactive sharable document\n",
    "- Way to combine code, visualizations, narrative text, mathematical equations, and other media\n",
    "- Jupyter is NOT ideal for reusable code or scripts\n",
    "- Jupyter IS ideal for \n",
    "    - Exploratory data analysis and testing ideas\n",
    "    - Sharing the thinking behind your analysis\n",
    "    - Pedagogy\n",
    "- JupyterLab is the next-generation interface with a modular structure where you can open multiple notebooks or files as tabs"
   ]
  },
  {
   "cell_type": "markdown",
   "id": "f9028118",
   "metadata": {},
   "source": [
    "## Installing Jupyter\n",
    "- You can run in the cloud in Google Colab, Binder, or Kaggle\n",
    "- Install locally via conda or pip - we'll show this method\n",
    "    - Install [miniforge](https://github.com/conda-forge/miniforge/releases) (preferred minimal conda installer)\n",
    "    - Launch miniforge prompt from the Start menu\n",
    "    - Either in your base environment, or in a new environment you create, install jupyter:\n",
    "        - conda install jupyter\n",
    "    - Note that miniforge uses conda-forge channel by default.\n",
    "        - channels are simply the repostories you specify to search for Python libraries\n",
    "- We'll start by demonstrating using Jupyter Notebooks with Python kernal, then show using with R\n"
   ]
  },
  {
   "cell_type": "markdown",
   "id": "102eaf24",
   "metadata": {},
   "source": [
    "## Launch a Jupyter Notebook\n",
    "- In miniforge prompt type either:\n",
    "    - jupyter notebook\n",
    "    or\n",
    "    - jupyter lab\n",
    "    \n",
    " - Out of the box Jupyter just runs the Python kernel, but [many language 'kernels' available](https://github.com/jupyter/jupyter/wiki/Jupyter-kernels)"
   ]
  },
  {
   "cell_type": "markdown",
   "id": "c704295d",
   "metadata": {},
   "source": [
    "\n"
   ]
  }
 ],
 "metadata": {
  "kernelspec": {
   "display_name": "Python 3 (ipykernel)",
   "language": "python",
   "name": "python3"
  },
  "language_info": {
   "codemirror_mode": {
    "name": "ipython",
    "version": 3
   },
   "file_extension": ".py",
   "mimetype": "text/x-python",
   "name": "python",
   "nbconvert_exporter": "python",
   "pygments_lexer": "ipython3",
   "version": "3.10.6"
  }
 },
 "nbformat": 4,
 "nbformat_minor": 5
}
